{
 "cells": [
  {
   "cell_type": "markdown",
   "metadata": {
    "slideshow": {
     "slide_type": "slide"
    }
   },
   "source": [
    "# Welcome "
   ]
  },
  {
   "cell_type": "markdown",
   "metadata": {
    "slideshow": {
     "slide_type": "slide"
    }
   },
   "source": [
    "# Let's introduce ourselves: name, program, your work and what you want from this"
   ]
  },
  {
   "cell_type": "markdown",
   "metadata": {
    "slideshow": {
     "slide_type": "slide"
    }
   },
   "source": [
    "# This group is for:\n",
    "\n",
    "## Those who want to handle data\n",
    "## Those who want to learn good practices and techniques in data science\n",
    "## Those who want to tell a story or pursue a question with data\n",
    "## Those who want to become independent working with data"
   ]
  },
  {
   "cell_type": "markdown",
   "metadata": {
    "slideshow": {
     "slide_type": "slide"
    }
   },
   "source": [
    "# This group has two components:\n",
    "\n",
    "# 1. Structured Learning (Tuesdays)\n",
    "\n",
    "# 2. Project (Thursdays)\n",
    "\n",
    "# Goal: For you to feel comfortable with helping yourself handling a data science project"
   ]
  },
  {
   "cell_type": "markdown",
   "metadata": {
    "slideshow": {
     "slide_type": "slide"
    }
   },
   "source": [
    "# 1. Structured Learning (Tuesdays)\n",
    "\n",
    "# Video Lectures through Data Specialization on Coursera\n",
    "\n",
    "# Or any other valuable video or structured source for laying the foundation for learning more of this field"
   ]
  },
  {
   "cell_type": "markdown",
   "metadata": {
    "slideshow": {
     "slide_type": "slide"
    }
   },
   "source": [
    "# 2. Project\n",
    "\n",
    "# Pursue a project of your interest with a group of 2-3 students.\n",
    "\n",
    "# As a large group, we'll help each other structure our project, set goals, and set tasks for completion (which is TBA)"
   ]
  }
 ],
 "metadata": {
  "celltoolbar": "Slideshow",
  "kernelspec": {
   "display_name": "Python [conda env:py3.6]",
   "language": "python",
   "name": "conda-env-py3.6-py"
  },
  "language_info": {
   "codemirror_mode": {
    "name": "ipython",
    "version": 3
   },
   "file_extension": ".py",
   "mimetype": "text/x-python",
   "name": "python",
   "nbconvert_exporter": "python",
   "pygments_lexer": "ipython3",
   "version": "3.6.1"
  }
 },
 "nbformat": 4,
 "nbformat_minor": 1
}
